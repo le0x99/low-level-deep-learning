{
 "cells": [
  {
   "cell_type": "markdown",
   "metadata": {},
   "source": [
    "## Deep Learning - Assignment 1\n",
    "\n",
    "### A.1) Handcoded Neural Network using only Python"
   ]
  },
  {
   "cell_type": "markdown",
   "metadata": {},
   "source": [
    "### Question 1"
   ]
  },
  {
   "cell_type": "markdown",
   "metadata": {},
   "source": [
    "Note : If you see my code in other students assignments, this here is the source!"
   ]
  },
  {
   "cell_type": "markdown",
   "metadata": {},
   "source": [
    "\n",
    "\n",
    "#### Note : My notation is different from the one used in the lecture. Elements of activated vectors are denoted by $A^{l}_{i}$, Linears are called $Z^{l}_{i}$. \n",
    "\n"
   ]
  },
  {
   "cell_type": "markdown",
   "metadata": {},
   "source": [
    "$A_j = P(y=j | Z)$ is modeled by the softmax $A(Z) : \\mathbb{R}^{N} \\to \\mathbb{R}^{N}$.\n",
    "\n",
    "yielding quasi probabilities\n",
    "\n",
    "$$\n",
    "A_{j}=\\frac{e^{Z_{j}}}{\\sum_{k=1}^{N} e^{Z_{k}}} \\quad \\forall j \\in 1 . . N\n",
    "$$\n",
    "\n",
    "Gradient must therefore be $J \\in \\mathbb{R}^{N\\times N}$. The partial derivates will look like the sigmoid derivatives, but since we incorporate all elements of $Z$ we will have to specify $(i, j)$ to get an general expression of the derivatives.\n"
   ]
  },
  {
   "cell_type": "markdown",
   "metadata": {},
   "source": [
    "$$\n",
    "J_{j, i}=\\frac{\\partial A_{i}}{\\partial Z_{j}}=\\frac{\\partial \\frac{e^{Z_{i}}}{\\sum_{k=1}^{N} e^{Z_{k}}}}{\\partial Z_{j}}\n",
    "$$\n",
    "\n",
    "###  1.) $i=j$ \n",
    "\n",
    "$$\n",
    "\\Sigma \\gets \\sum_{k=1}^{N} e^{Z_{k}}\n",
    "$$\n",
    "\n",
    "\n",
    "$$\n",
    "\\begin{aligned}\n",
    "\\frac{\\partial \\frac{e^{Z_{i}}}{\\sum_{k=1}^{N} e^{Z_{k}}}}{\\partial Z_{j}} &=\\frac{e^{Z_{i}} \\Sigma-e^{Z_{j}} e^{Z_{i}}}{\\Sigma^{2}} \\\\\n",
    "&=\\frac{e^{Z_{i}}}{\\Sigma} \\frac{\\Sigma-e^{Z_{j}}}{\\Sigma} \\\\\n",
    "&=S_{i}\\left(1-A_{j}\\right)\n",
    "\\end{aligned}\n",
    "$$\n",
    "### 2.) $i \\neq j$\n",
    "\n",
    "$$\n",
    "\\begin{aligned}\n",
    "\\frac{\\partial \\frac{e^{Z_{i}}}{\\sum_{k=1}^{N} e^{Z_{k}}}}{\\partial Z_{j}} &=\\frac{0-e^{Z_{j}} e^{Z_{i}}}{\\Sigma^{2}} \\\\\n",
    "&=-\\frac{e^{Z_{j}}}{\\Sigma} \\frac{e^{Z_{i}}}{\\Sigma} \\\\\n",
    "&=-A_{j} A_{i}\n",
    "\\end{aligned}\n",
    "$$\n",
    "yields\n",
    "$$\n",
    "J_{j,i} =\\left\\{\\begin{array}{cc}\n",
    "A_{i}\\left(1-A_{j}\\right) & i=j \\\\\n",
    "-A_{j} A_{i} & i \\neq j\n",
    "\\end{array}\\right.\n",
    "$$"
   ]
  },
  {
   "cell_type": "markdown",
   "metadata": {},
   "source": [
    "### Objective\n",
    "\n",
    "We model the similarity between the target distribution $T$ and our modeled distribution $A$ by :\n",
    "\n",
    "$$\n",
    "\\mathcal{L}(T, A)=-\\sum_{i=1}^{N} T_{i} \\cdot \\log \\left(A_{i}\\right)\n",
    "$$\n",
    "\n",
    "It is immediately obvious that the gradient must be $J \\in \\mathbb{R}^{N}$ and only $i$ for which $T_i = 1$ will be non-zero in the jacobian. For the element where $T_i = 1$, the entry (i.e. partial derivative) must be $- \\frac{1}{A_i}$.\n",
    "\n",
    "$$\n",
    "J_{i} =\\left\\{\\begin{array}{cc}\n",
    "- \\frac{1}{A_i} & T_i=1 \\\\\n",
    "0 & \\text{else}\n",
    "\\end{array}\\right.\n",
    "$$"
   ]
  },
  {
   "cell_type": "markdown",
   "metadata": {},
   "source": [
    "### Question 2\n",
    "For this specific scalar derivation I will use the lectures notation again to avoid cnfusion. After that I will switch back to the proper tensor notation\n",
    "\n",
    "$$\n",
    "\\frac{\\partial l}{\\partial o_{i}} = \\partial\\frac{-log(\\frac{\\exp o_i}{\\sum_j\\exp o_j})}{\\partial o_i} = \\partial\\frac{-o_i + log(\\sum_j\\exp o_j)}{\\partial o_i} = -\\frac{\\partial o_i}{\\partial o_i} + \\frac{\\exp o_i}{\\sum_j\\exp o_j} = y_i - \\frac{\\partial o_i}{\\partial o_i}  = y_i - \\mathbb{1}(y=i) \n",
    "$$\n",
    "\n",
    "\n",
    "Its not necessary because we can just use the chain rule\n",
    "\n",
    "$$\n",
    "\\frac{\\partial L}{\\partial o_i} = \\frac{\\partial L}{\\partial y_i} \\frac{\\partial y_i}{\\partial o_i}\n",
    "$$\n",
    "\n",
    "and with the already calculated derivatives we get:\n",
    "\n",
    "$$\n",
    "= -\\frac{1}{y_i}y_i (1-y_i) = -(1-y_i) = y_i -1\n",
    "$$"
   ]
  },
  {
   "cell_type": "markdown",
   "metadata": {},
   "source": [
    "### Question 3"
   ]
  },
  {
   "cell_type": "markdown",
   "metadata": {},
   "source": [
    "### Note : Code for my functions can be found in *./code/handcoded/*"
   ]
  },
  {
   "cell_type": "markdown",
   "metadata": {},
   "source": [
    "Before I start, I define the dot product of two objects, because I just dont want to do nested for loops each time Im multiplying two objects. Additionally, I define a naive list addition function :"
   ]
  },
  {
   "cell_type": "code",
   "execution_count": 1,
   "metadata": {},
   "outputs": [],
   "source": [
    "from code.handcoded.algebra import dot, add"
   ]
  },
  {
   "cell_type": "markdown",
   "metadata": {},
   "source": [
    "Next, I define a function to transpose the objects and inspect its shape:"
   ]
  },
  {
   "cell_type": "code",
   "execution_count": 2,
   "metadata": {},
   "outputs": [],
   "source": [
    "from code.handcoded.algebra import shape, transpose"
   ]
  },
  {
   "cell_type": "markdown",
   "metadata": {},
   "source": [
    "Now I define my functions that we need:"
   ]
  },
  {
   "cell_type": "code",
   "execution_count": 3,
   "metadata": {},
   "outputs": [],
   "source": [
    "from code.handcoded.functional import sigmoid, softmax, cross_entropy"
   ]
  },
  {
   "cell_type": "code",
   "execution_count": 4,
   "metadata": {},
   "outputs": [],
   "source": [
    "X = [[1., -1.]]\n",
    "W1 = [[1., 1., 1.], [-1., -1., -1.]]\n",
    "W2 = [[1., 1.], [-1., -1.], [-1., -1.]]\n",
    "b1 = [[0.,0.,0.]]\n",
    "b2 = [[0.,0.]]\n",
    "T = [[1., 0.]]"
   ]
  },
  {
   "cell_type": "markdown",
   "metadata": {},
   "source": [
    "### Forward"
   ]
  },
  {
   "cell_type": "markdown",
   "metadata": {},
   "source": [
    "Since I defined the general object multiplication, the forward pass looks just like this:"
   ]
  },
  {
   "cell_type": "code",
   "execution_count": 5,
   "metadata": {},
   "outputs": [],
   "source": [
    "# Linear\n",
    "Z1 = add(dot(X, W1), b1)\n",
    "# Activate\n",
    "A1 = sigmoid(Z1)\n",
    "# Linear\n",
    "Z2 = add(dot(A1, W2), b2)\n",
    "# Activate\n",
    "A2 = [softmax(Z2)]"
   ]
  },
  {
   "cell_type": "code",
   "execution_count": 6,
   "metadata": {},
   "outputs": [
    {
     "data": {
      "text/plain": [
       "0.6931471805599453"
      ]
     },
     "execution_count": 6,
     "metadata": {},
     "output_type": "execute_result"
    }
   ],
   "source": [
    "# Loss\n",
    "L = cross_entropy(A2, T)\n",
    "L"
   ]
  },
  {
   "cell_type": "markdown",
   "metadata": {},
   "source": [
    "### Backward"
   ]
  },
  {
   "cell_type": "markdown",
   "metadata": {},
   "source": [
    "The jacobian of the loss is obviously just\n",
    "$$\n",
    "\\frac{\\partial L}{\\partial A^{2}} = [ - \\frac{1}{A^{2}_{1}}, 0 ] \n",
    "$$"
   ]
  },
  {
   "cell_type": "code",
   "execution_count": 7,
   "metadata": {},
   "outputs": [],
   "source": [
    "dL_dA2 = [[-1/A2[0][_] if T[0][_]==1. else 0 for _ in range(len(T[0]))]]"
   ]
  },
  {
   "cell_type": "markdown",
   "metadata": {},
   "source": [
    "\n",
    "For the softmax it must be $A_{i}\\left(1-A_{j}\\right)$ on the diagonal and elsewhere $-A_{j} A_{i}$. In this case we have \n",
    "$$\n",
    "\\left[\\begin{array}{cc}\n",
    "A^{2}_{1}\\left(1-A^{2}_{1}\\right) & -A^{2}_2 A^{2}_1 \\\\\n",
    "-A^{2}_1 A^{2}_2 & A^{2}_{2}\\left(1-A^{2}_{2}\\right)\n",
    "\\end{array}\\right] \n",
    "$$"
   ]
  },
  {
   "cell_type": "code",
   "execution_count": 8,
   "metadata": {},
   "outputs": [],
   "source": [
    "dA2_dZ2 = [[None, None],[None, None]]\n",
    "for i in range(2):\n",
    "    for j in range(2):\n",
    "        dA2_dZ2[i][j] = A2[0][i]*(1 - A2[0][i]) if i==j else - A2[0][i]*A2[0][j]"
   ]
  },
  {
   "cell_type": "markdown",
   "metadata": {},
   "source": [
    "Now we aleady obtained \n",
    "$$\n",
    "\\frac{\\partial L}{\\partial Z^{2}} = \\frac{\\partial L}{\\partial A^{2}} \\frac{\\partial A^{2}}{\\partial Z^{2}}\n",
    "$$"
   ]
  },
  {
   "cell_type": "markdown",
   "metadata": {},
   "source": [
    "Thus \n",
    "$$\n",
    "\\frac{\\partial L}{\\partial b_2} = \\frac{\\partial L}{\\partial A^{2}} \\frac{\\partial A^{2}}{\\partial Z^{2}} \\frac{\\partial Z^{2}}{\\partial b_2} = \\frac{\\partial L}{\\partial b_2} = \\frac{\\partial L}{\\partial A^{2}} \\frac{\\partial A^{2}}{\\partial Z^{2}} 1\n",
    "$$"
   ]
  },
  {
   "cell_type": "code",
   "execution_count": 9,
   "metadata": {},
   "outputs": [],
   "source": [
    "dL_dZ2 = dL_db2 = dot(dL_dA2, dA2_dZ2) "
   ]
  },
  {
   "cell_type": "markdown",
   "metadata": {},
   "source": [
    "Now \n",
    "\n",
    "$$\n",
    "\\frac{\\partial L}{\\partial W_2} = \\frac{\\partial L}{\\partial A^{2}} \\frac{\\partial A^{2}}{\\partial Z^{2}} \\frac{\\partial Z^{2}}{\\partial W_2}, \\frac{\\partial Z^{2}}{\\partial W_2} = A^{{1}}\n",
    "$$\n",
    "\n",
    "Then equivalently :"
   ]
  },
  {
   "cell_type": "code",
   "execution_count": 10,
   "metadata": {},
   "outputs": [],
   "source": [
    "dL_dW2 = transpose(dot(transpose(dL_dZ2), A1))"
   ]
  },
  {
   "cell_type": "markdown",
   "metadata": {},
   "source": [
    "Now we need $\\frac{\\partial Z^{2}}{\\partial A^{1}} = W_{2}^{T}$ and $\\frac{\\partial A^{1}}{\\partial Z^{1}} = A^{1}(1-A^{1})$"
   ]
  },
  {
   "cell_type": "code",
   "execution_count": 11,
   "metadata": {},
   "outputs": [],
   "source": [
    "dZ2_dA1 = transpose(W2)"
   ]
  },
  {
   "cell_type": "code",
   "execution_count": 12,
   "metadata": {},
   "outputs": [],
   "source": [
    "dL_dA1 = dot(dL_dZ2, dZ2_dA1)"
   ]
  },
  {
   "cell_type": "code",
   "execution_count": 13,
   "metadata": {},
   "outputs": [],
   "source": [
    "dA1_dZ1 = [[A1[0][_]*(1-A1[0][_]) for  _ in range(len(A1[0]))]]"
   ]
  },
  {
   "cell_type": "code",
   "execution_count": 14,
   "metadata": {},
   "outputs": [],
   "source": [
    "dL_dZ1 = [[dL_dA1[0][_]*dA1_dZ1[0][_] for  _ in range(len(dA1_dZ1[0]))]]"
   ]
  },
  {
   "cell_type": "markdown",
   "metadata": {},
   "source": [
    "$$\n",
    "\\frac{\\partial L}{\\partial b_1} = \\frac{\\partial L}{\\partial A^{2}} \\frac{\\partial A^{2}}{\\partial Z^{2}} \\frac{\\partial Z^{2}}{\\partial A_1} \\frac{\\partial A^{1}}{\\partial Z_1} \\frac{\\partial Z^{1}}{\\partial b_1} \n",
    "$$\n",
    "\n",
    "Thus, again $\\frac{\\partial L}{\\partial b_1}= \\frac{\\partial L}{\\partial Z_1}$\n"
   ]
  },
  {
   "cell_type": "markdown",
   "metadata": {},
   "source": [
    "Equivalently"
   ]
  },
  {
   "cell_type": "code",
   "execution_count": 15,
   "metadata": {},
   "outputs": [],
   "source": [
    "dL_db1 = dL_dZ1"
   ]
  },
  {
   "cell_type": "markdown",
   "metadata": {},
   "source": [
    "$$\n",
    "\\frac{\\partial L}{\\partial W_1} = \\frac{\\partial L}{\\partial A^{2}} \\frac{\\partial A^{2}}{\\partial Z^{2}} \\frac{\\partial Z^{2}}{\\partial A_1} \\frac{\\partial A^{1}}{\\partial Z_1} \\frac{\\partial Z^{1}}{\\partial W_1} \n",
    "$$"
   ]
  },
  {
   "cell_type": "markdown",
   "metadata": {},
   "source": [
    "Obviously now $\\frac{\\partial Z^{1}}{\\partial W_{1}} = X$"
   ]
  },
  {
   "cell_type": "code",
   "execution_count": 16,
   "metadata": {},
   "outputs": [],
   "source": [
    "dZ1_dW1 = X"
   ]
  },
  {
   "cell_type": "markdown",
   "metadata": {},
   "source": [
    "Finally"
   ]
  },
  {
   "cell_type": "code",
   "execution_count": 17,
   "metadata": {},
   "outputs": [],
   "source": [
    "dL_dW1 = transpose(dot(transpose(dL_dZ1), dZ1_dW1))"
   ]
  },
  {
   "cell_type": "markdown",
   "metadata": {},
   "source": [
    "### Gradients"
   ]
  },
  {
   "cell_type": "code",
   "execution_count": 18,
   "metadata": {},
   "outputs": [
    {
     "data": {
      "text/plain": [
       "[[-0.44039853898894116, 0.44039853898894116],\n",
       " [-0.44039853898894116, 0.44039853898894116],\n",
       " [-0.44039853898894116, 0.44039853898894116]]"
      ]
     },
     "execution_count": 18,
     "metadata": {},
     "output_type": "execute_result"
    }
   ],
   "source": [
    "dL_dW2"
   ]
  },
  {
   "cell_type": "code",
   "execution_count": 19,
   "metadata": {},
   "outputs": [
    {
     "data": {
      "text/plain": [
       "[[-0.5, 0.5]]"
      ]
     },
     "execution_count": 19,
     "metadata": {},
     "output_type": "execute_result"
    }
   ],
   "source": [
    "dL_db2"
   ]
  },
  {
   "cell_type": "code",
   "execution_count": 20,
   "metadata": {},
   "outputs": [
    {
     "data": {
      "text/plain": [
       "[[0.0, 0.0, 0.0], [0.0, 0.0, 0.0]]"
      ]
     },
     "execution_count": 20,
     "metadata": {},
     "output_type": "execute_result"
    }
   ],
   "source": [
    "dL_dW1"
   ]
  },
  {
   "cell_type": "code",
   "execution_count": 21,
   "metadata": {},
   "outputs": [
    {
     "data": {
      "text/plain": [
       "[[0.0, 0.0, 0.0]]"
      ]
     },
     "execution_count": 21,
     "metadata": {},
     "output_type": "execute_result"
    }
   ],
   "source": [
    "dL_db1"
   ]
  },
  {
   "cell_type": "markdown",
   "metadata": {},
   "source": [
    "### A.2) Handcoded Neural Network training Loop\n",
    "### Question 4\n",
    "I encapsulated the forward and backward pass into functions. I also initiliazed the weights using $U(0,1)$ and $0$ for the bias'. All code can be found at *./code/handcoded/neural_network*"
   ]
  },
  {
   "cell_type": "code",
   "execution_count": 22,
   "metadata": {},
   "outputs": [],
   "source": [
    "from code.data import load_synth\n",
    "from code.handcoded.neural_network import *\n",
    "import pandas as pd # for plotting\n",
    "from tqdm import tqdm # for progress bar"
   ]
  },
  {
   "cell_type": "code",
   "execution_count": 23,
   "metadata": {},
   "outputs": [],
   "source": [
    "(xtrain, ytrain), (xval, yval), num_cls = load_synth()"
   ]
  },
  {
   "cell_type": "code",
   "execution_count": 52,
   "metadata": {},
   "outputs": [
    {
     "name": "stderr",
     "output_type": "stream",
     "text": [
      "100%|██████████| 100/100 [07:41<00:00,  4.62s/it]\n"
     ]
    },
    {
     "data": {
      "text/plain": [
       "<AxesSubplot:>"
      ]
     },
     "execution_count": 52,
     "metadata": {},
     "output_type": "execute_result"
    },
    {
     "data": {
      "image/png": "[encoded data removed]",
      "text/plain": [
       "<Figure size 864x576 with 1 Axes>"
      ]
     },
     "metadata": {
      "needs_background": "light"
     },
     "output_type": "display_data"
    }
   ],
   "source": [
    "parameters = initialize_parameters()\n",
    "W1, b1 = parameters[\"W1\"],parameters[\"b1\"]\n",
    "W2, b2 = parameters[\"W2\"],parameters[\"b2\"]\n",
    "\n",
    "epochs = {}\n",
    "for epoch in tqdm(range(100)):\n",
    "    epochs[epoch] = []\n",
    "    for step in range(len(xtrain)):\n",
    "        X = [xtrain[step].tolist()]\n",
    "        Y = [ytrain[step]]\n",
    "        Y += [0] if Y[0]==1 else [1]\n",
    "        Y = [Y]\n",
    "        A2, cache = forward_propagation(X, parameters)\n",
    "        cost = compute_cost(A2, Y, parameters)\n",
    "        grads = backward_propagation(parameters, cache, X, Y)\n",
    "        parameters = update_parameters(parameters, grads, learning_rate=0.01)\n",
    "        epochs[epoch] += [cost]\n",
    "pd.DataFrame(epochs).mean(axis=0).plot(style=\".-\", grid=True,figsize=(12,8))"
   ]
  },
  {
   "cell_type": "markdown",
   "metadata": {},
   "source": [
    "As one can see, the handcoded NN converges as expected. I am using 1-SGD without shuffling for training and a learning rate of 0.01."
   ]
  },
  {
   "cell_type": "markdown",
   "metadata": {},
   "source": [
    "## B.) Neural Network using Numpy\n",
    "\n",
    "### Question 5 + 6"
   ]
  },
  {
   "cell_type": "markdown",
   "metadata": {},
   "source": [
    "Note : Code can be inspected in *./code/vectorized/*"
   ]
  },
  {
   "cell_type": "markdown",
   "metadata": {},
   "source": [
    "Implementing a neural network in numpy is trivial now because I already know all the required dot products for both the forward and backward pass. I didnt change any of the logic of the network, but I did some minor adjustments to the gradient expressions, without changing the actual derivates, just making the computations more efficient. For example since $A^{2}(Z^{2})$ is the softmax and $\\mathcal{L}$ the cross entropy of $A^{2}$ and $T$, we can actually directly compute\n",
    "\n",
    "$$\n",
    "\\begin{aligned}\n",
    "\\frac{\\partial \\mathcal{L}}{\\partial \\mathbf{Z}^{2}} &=\\operatorname{softmax}(\\mathbf{Z}^{2})-\\mathbf{T} \\\\\n",
    "&=A^{2}-\\mathbf{T}\n",
    "\\end{aligned}\n",
    "$$\n",
    "\n",
    "as our gradient source. \n",
    "\n",
    "Another note is that I stabilized some of the functional operations by injecting small epsilons. By doing that we can avoid functional blowups and thus tiny gradients.\n"
   ]
  },
  {
   "cell_type": "markdown",
   "metadata": {},
   "source": [
    "### MiniBatch SGD\n",
    "\n",
    "Implementing batched versions of forward and backwards is very easy because you just need to add a batch dimension and after that take care of transpose-operation, because now we have to explicitly select the tranpose dimensions. Also, when updating the parameters I took the mean of the batch gradient for updating. Note that other options exist for sure. Other than that all operations should be equivalent to Single Batch GD."
   ]
  },
  {
   "cell_type": "code",
   "execution_count": 1,
   "metadata": {},
   "outputs": [],
   "source": [
    "from code.data import load_mnist\n",
    "from code.vectorized.neural_network_vectorized import *\n",
    "from tqdm import tqdm # for progress bar\n",
    "from tqdm.notebook import tqdm_notebook\n",
    "import pandas as pd # for plotting\n",
    "import matplotlib.pyplot as plt  # for plotting"
   ]
  },
  {
   "cell_type": "code",
   "execution_count": 3,
   "metadata": {},
   "outputs": [],
   "source": [
    "(xtrain, ytrain), (xval, yval), num_cls = load_mnist(False)"
   ]
  },
  {
   "cell_type": "code",
   "execution_count": 6,
   "metadata": {},
   "outputs": [
    {
     "name": "stderr",
     "output_type": "stream",
     "text": [
      "100%|██████████| 600/600 [02:21<00:00,  4.24it/s]\n",
      "100%|██████████| 600/600 [02:22<00:00,  4.20it/s]\n",
      "100%|██████████| 600/600 [02:17<00:00,  4.38it/s]\n",
      "100%|██████████| 600/600 [02:11<00:00,  4.55it/s]\n",
      "100%|██████████| 600/600 [02:22<00:00,  4.21it/s]\n"
     ]
    },
    {
     "data": {
      "text/plain": [
       "Text(0.5, 0, 'Epoch')"
      ]
     },
     "execution_count": 6,
     "metadata": {},
     "output_type": "execute_result"
    },
    {
     "data": {
      "image/png": "[encoded data removed]",
      "text/plain": [
       "<Figure size 432x288 with 2 Axes>"
      ]
     },
     "metadata": {
      "needs_background": "light"
     },
     "output_type": "display_data"
    }
   ],
   "source": [
    "parameters = initialize_parameters()\n",
    "W1, b1 = parameters[\"W1\"],parameters[\"b1\"]\n",
    "W2, b2 = parameters[\"W2\"],parameters[\"b2\"]\n",
    "costs = []\n",
    "batch_size = 100\n",
    "epochs = 5\n",
    "N = xtrain.shape[0]\n",
    "steps = int(N/batch_size)\n",
    "xtrain_ = xtrain[:steps*batch_size]\n",
    "ytrain_ = ytrain[:steps*batch_size]\n",
    "epochs_ = {}\n",
    "epochs_eval = {}\n",
    "eval_batches = np.split(xval, int(xval.shape[0]/batch_size))\n",
    "index = list(range(N))\n",
    "train_acc = {}\n",
    "val_acc = {}\n",
    "for epoch in range(epochs):\n",
    "    epochs_[epoch] = []\n",
    "    epochs_eval[epoch] = []\n",
    "    train_acc[epoch] = []\n",
    "    val_acc[epoch] = []\n",
    "    np.random.shuffle(index)\n",
    "    batches = np.split(np.array(index), steps)\n",
    "    for batch in tqdm(batches):\n",
    "        x, y = xtrain_[batch], ytrain_[batch]\n",
    "        X = x.reshape(batch_size,784,1)\n",
    "        Y = np.zeros((batch_size,10,1))\n",
    "        for i in range(len(y)):\n",
    "            Y[i,y[i],:] = 1.\n",
    "        A2, cache = forward_propagation(X, parameters, batched=True)\n",
    "        cost = compute_cost_stable(A2, Y,batched=True)\n",
    "        grads = backward_propagation(parameters, cache, X, Y,batched=True)\n",
    "        parameters = update_parameters(parameters, grads, batched=True, learning_rate = 0.01)\n",
    "        epochs_[epoch] += [cost]\n",
    "        train_acc[epoch] += [np.where(A2.argmax(1) == Y.argmax(1))[0].shape[0] / Y.shape[0]]\n",
    "    eval_batches = np.split(np.array(list(range(xval.shape[0]))), int(xval.shape[0]/batch_size))\n",
    "    for ev in eval_batches:\n",
    "        x, y = xval[ev], yval[ev]\n",
    "        X = x.reshape(batch_size,784,1)\n",
    "        Y = np.zeros((batch_size,10,1))\n",
    "        for i in range(len(y)):\n",
    "            Y[i,y[i],:] = 1.\n",
    "        pred, ____ = forward_propagation(X, parameters, batched=True)\n",
    "        cost_ = compute_cost_stable(pred, Y,batched=True)\n",
    "        val_acc[epoch] += [np.where(pred.argmax(1) == Y.argmax(1))[0].shape[0] / Y.shape[0]]\n",
    "        epochs_eval[epoch] += [cost_]\n",
    "        \n",
    "fig, axes = plt.subplots(nrows=2,ncols=1, sharex=True)\n",
    "pd.DataFrame(epochs_).mean(axis=0).plot(style=\".-\",grid=True,ms=11,color=\"blue\",ax=axes[0])\n",
    "pd.DataFrame(epochs_eval).mean(axis=0).plot(style=\".-\",grid=True,ms=11,color=\"green\",ax=axes[0])\n",
    "pd.DataFrame(train_acc).mean(axis=0).plot(style=\".-\",grid=True,ms=11,color=\"blue\",ax=axes[1])\n",
    "pd.DataFrame(val_acc).mean(axis=0).plot(style=\".-\",grid=True,ms=11,color=\"green\",ax=axes[1])\n",
    "axes[0].legend([\"train\",\"val\"])\n",
    "axes[0].set_title(\"Cost\")\n",
    "axes[1].set_title(\"Accuracy\")\n",
    "axes[1].set_xlabel(\"Epoch\")"
   ]
  },
  {
   "cell_type": "markdown",
   "metadata": {},
   "source": [
    "Everything looks just fine. Showing 5 epochs, the validation loss is still lower than the training loss, which is expected because the model is being evaluated after each epoch, i.e. the model has already seen 55K data points before evaluation."
   ]
  },
  {
   "cell_type": "markdown",
   "metadata": {},
   "source": [
    "### Question 7"
   ]
  },
  {
   "cell_type": "markdown",
   "metadata": {},
   "source": [
    "I evaluate the learning rate by training for 5 epochs each, using $\\alpha \\in [.001,.1]_{10}$. After the 10 models have been trained, they are evaluated on the evaluation set."
   ]
  },
  {
   "cell_type": "code",
   "execution_count": 15,
   "metadata": {},
   "outputs": [
    {
     "name": "stderr",
     "output_type": "stream",
     "text": [
      "100%|██████████| 10/10 [1:37:33<00:00, 585.35s/it]\n"
     ]
    }
   ],
   "source": [
    "results = {lr : {\"cost\": [], \"acc\":[]} for lr in np.linspace(10e-4,10e-2, 10)}\n",
    "for lr in tqdm(results):\n",
    "    epochs = 5\n",
    "    batch_size = 100\n",
    "    parameters = initialize_parameters()\n",
    "    W1, b1 = parameters[\"W1\"],parameters[\"b1\"]\n",
    "    W2, b2 = parameters[\"W2\"],parameters[\"b2\"]\n",
    "    N = xtrain.shape[0]\n",
    "    steps = int(N/batch_size)\n",
    "    xtrain_ = xtrain[:steps*batch_size]\n",
    "    ytrain_ = ytrain[:steps*batch_size]\n",
    "    epochs_ = {}\n",
    "    eval_ = {\"cost\" : [], \"acc\" : []}\n",
    "    eval_batches = np.split(xval, int(xval.shape[0]/batch_size))\n",
    "    index = list(range(N))\n",
    "    train_acc = {}\n",
    "    val_acc = {}\n",
    "    for epoch in range(epochs):\n",
    "        epochs_[epoch] = []\n",
    "        train_acc[epoch] = []\n",
    "        val_acc[epoch] = []\n",
    "        np.random.shuffle(index)\n",
    "        batches = np.split(np.array(index), steps)\n",
    "        for batch in batches:\n",
    "            x, y = xtrain_[batch], ytrain_[batch]\n",
    "            X = x.reshape(batch_size,784,1)\n",
    "            Y = np.zeros((batch_size,10,1))\n",
    "            for i in range(len(y)):\n",
    "                Y[i,y[i],:] = 1.\n",
    "            A2, cache = forward_propagation(X, parameters, batched=True)\n",
    "            cost = compute_cost_stable(A2, Y,batched=True)\n",
    "            grads = backward_propagation(parameters, cache, X, Y,batched=True)\n",
    "            parameters = update_parameters(parameters, grads, batched=True, learning_rate = lr)\n",
    "            epochs_[epoch] += [cost]\n",
    "            train_acc[epoch] += [np.where(A2.argmax(1) == Y.argmax(1))[0].shape[0] / Y.shape[0]]\n",
    "    eval_batches = np.split(np.array(list(range(xval.shape[0]))), int(xval.shape[0]/batch_size))\n",
    "    for ev in eval_batches:\n",
    "        x, y = xval[ev], yval[ev]\n",
    "        X = x.reshape(batch_size,784,1)\n",
    "        Y = np.zeros((batch_size,10,1))\n",
    "        for i in range(len(y)):\n",
    "            Y[i,y[i],:] = 1.\n",
    "        pred, ____ = forward_propagation(X, parameters, batched=True)\n",
    "        cost_ = compute_cost_stable(pred, Y,batched=True)\n",
    "        acc_ = np.where(pred.argmax(1) == Y.argmax(1))[0].shape[0] / Y.shape[0]\n",
    "\n",
    "        eval_[\"cost\"] += [cost_]\n",
    "        eval_[\"acc\"] += [acc_]\n",
    "\n",
    "    results[lr][\"cost\"] = eval_[\"cost\"]\n",
    "    results[lr][\"acc\"] = eval_[\"acc\"]\n",
    "    \n",
    "df_ = pd.DataFrame()\n",
    "for lr in results:\n",
    "    df = pd.DataFrame(results[lr]).melt()\n",
    "    df[\"lr\"] = lr\n",
    "    df_ = df_.append(df)"
   ]
  },
  {
   "cell_type": "code",
   "execution_count": 46,
   "metadata": {},
   "outputs": [
    {
     "data": {
      "text/plain": [
       "[]"
      ]
     },
     "execution_count": 46,
     "metadata": {},
     "output_type": "execute_result"
    },
    {
     "data": {
      "image/png": "[encoded data removed]",
      "text/plain": [
       "<Figure size 576x396 with 1 Axes>"
      ]
     },
     "metadata": {},
     "output_type": "display_data"
    }
   ],
   "source": [
    "import seaborn as sns\n",
    "plt.style.use(\"ggplot\")\n",
    "sns.boxplot(data=df_, x=\"lr\", y=\"value\",hue=\"variable\",showfliers=False).set_xticks([])"
   ]
  },
  {
   "cell_type": "markdown",
   "metadata": {},
   "source": [
    "We can see that using a higher learning rate seems to correspond to an overal better model as both the distribution of the loss and the accucary improve for higher learning rates. Now im gonna train the model using $\\alpha = 0.1$ on the big data set"
   ]
  },
  {
   "cell_type": "code",
   "execution_count": 2,
   "metadata": {},
   "outputs": [],
   "source": [
    "(xtrain, ytrain), (xval, yval), num_cls = load_mnist(final=True)"
   ]
  },
  {
   "cell_type": "code",
   "execution_count": 5,
   "metadata": {},
   "outputs": [
    {
     "name": "stderr",
     "output_type": "stream",
     "text": [
      "100%|██████████| 1200/1200 [01:08<00:00, 17.42it/s]\n",
      "100%|██████████| 1200/1200 [01:07<00:00, 17.72it/s]\n",
      "100%|██████████| 1200/1200 [01:11<00:00, 16.76it/s]\n",
      "100%|██████████| 1200/1200 [01:05<00:00, 18.45it/s]\n",
      "100%|██████████| 1200/1200 [01:16<00:00, 15.76it/s]\n",
      "100%|██████████| 1200/1200 [01:05<00:00, 18.37it/s]\n",
      "100%|██████████| 1200/1200 [01:05<00:00, 18.32it/s]\n",
      "100%|██████████| 1200/1200 [01:05<00:00, 18.18it/s]\n",
      "100%|██████████| 1200/1200 [01:05<00:00, 18.45it/s]\n",
      "100%|██████████| 1200/1200 [43:39<00:00,  2.18s/it]   \n",
      "100%|██████████| 1200/1200 [01:05<00:00, 18.40it/s]\n",
      "100%|██████████| 1200/1200 [01:05<00:00, 18.27it/s]\n",
      "100%|██████████| 1200/1200 [13:59<00:00,  1.43it/s]   \n",
      "100%|██████████| 1200/1200 [01:10<00:00, 17.05it/s]\n",
      "100%|██████████| 1200/1200 [01:09<00:00, 17.25it/s]\n",
      "100%|██████████| 1200/1200 [01:09<00:00, 17.23it/s]\n",
      "100%|██████████| 1200/1200 [01:10<00:00, 17.13it/s]\n",
      "100%|██████████| 1200/1200 [01:09<00:00, 17.32it/s]\n",
      "100%|██████████| 1200/1200 [01:10<00:00, 17.14it/s]\n",
      "100%|██████████| 1200/1200 [01:09<00:00, 17.23it/s]\n",
      "100%|██████████| 1200/1200 [01:09<00:00, 17.27it/s]\n",
      "100%|██████████| 1200/1200 [01:08<00:00, 17.46it/s]\n",
      "100%|██████████| 1200/1200 [01:08<00:00, 17.43it/s]\n",
      "100%|██████████| 1200/1200 [01:08<00:00, 17.41it/s]\n",
      "100%|██████████| 1200/1200 [01:08<00:00, 17.49it/s]\n"
     ]
    },
    {
     "data": {
      "text/plain": [
       "Text(0.5, 0, 'Epoch')"
      ]
     },
     "execution_count": 5,
     "metadata": {},
     "output_type": "execute_result"
    },
    {
     "data": {
      "image/png": "[encoded data removed]",
      "text/plain": [
       "<Figure size 1080x648 with 2 Axes>"
      ]
     },
     "metadata": {
      "needs_background": "light"
     },
     "output_type": "display_data"
    }
   ],
   "source": [
    "parameters = initialize_parameters()\n",
    "W1, b1 = parameters[\"W1\"],parameters[\"b1\"]\n",
    "W2, b2 = parameters[\"W2\"],parameters[\"b2\"]\n",
    "costs = []\n",
    "batch_size = 50\n",
    "lr = 0.1\n",
    "epochs = 25\n",
    "N = xtrain.shape[0]\n",
    "steps = int(N/batch_size)\n",
    "xtrain_ = xtrain[:steps*batch_size]\n",
    "ytrain_ = ytrain[:steps*batch_size]\n",
    "epochs_ = {}\n",
    "epochs_eval = {}\n",
    "eval_batches = np.split(xval, int(xval.shape[0]/batch_size))\n",
    "index = list(range(N))\n",
    "train_acc = {}\n",
    "val_acc = {}\n",
    "for epoch in range(epochs):\n",
    "    epochs_[epoch] = []\n",
    "    epochs_eval[epoch] = []\n",
    "    train_acc[epoch] = []\n",
    "    val_acc[epoch] = []\n",
    "    np.random.shuffle(index)\n",
    "    batches = np.split(np.array(index), steps)\n",
    "    for batch in tqdm(batches):\n",
    "        x, y = xtrain_[batch], ytrain_[batch]\n",
    "        X = x.reshape(batch_size,784,1)\n",
    "        Y = np.zeros((batch_size,10,1))\n",
    "        for i in range(len(y)):\n",
    "            Y[i,y[i],:] = 1.\n",
    "        A2, cache = forward_propagation(X, parameters, batched=True)\n",
    "        cost = compute_cost_stable(A2, Y,batched=True)\n",
    "        grads = backward_propagation(parameters, cache, X, Y,batched=True)\n",
    "        parameters = update_parameters(parameters, grads, batched=True, learning_rate = lr)\n",
    "        epochs_[epoch] += [cost]\n",
    "        train_acc[epoch] += [np.where(A2.argmax(1) == Y.argmax(1))[0].shape[0] / Y.shape[0]]\n",
    "    eval_batches = np.split(np.array(list(range(xval.shape[0]))), int(xval.shape[0]/batch_size))\n",
    "    for ev in eval_batches:\n",
    "        x, y = xval[ev], yval[ev]\n",
    "        X = x.reshape(batch_size,784,1)\n",
    "        Y = np.zeros((batch_size,10,1))\n",
    "        for i in range(len(y)):\n",
    "            Y[i,y[i],:] = 1.\n",
    "        pred, ____ = forward_propagation(X, parameters, batched=True)\n",
    "        cost_ = compute_cost_stable(pred, Y,batched=True)\n",
    "        val_acc[epoch] += [np.where(pred.argmax(1) == Y.argmax(1))[0].shape[0] / Y.shape[0]]\n",
    "        epochs_eval[epoch] += [cost_]\n",
    "fig, axes = plt.subplots(nrows=2,ncols=1, sharex=True,figsize=(15,9))\n",
    "pd.DataFrame(epochs_).mean(axis=0).plot(style=\".-\",grid=True,ms=8,color=\"blue\",ax=axes[0])\n",
    "pd.DataFrame(epochs_eval).mean(axis=0).plot(style=\".-\",grid=True,ms=8,color=\"green\",ax=axes[0])\n",
    "pd.DataFrame(train_acc).mean(axis=0).plot(style=\".-\",grid=True,ms=8,color=\"blue\",ax=axes[1])\n",
    "pd.DataFrame(val_acc).mean(axis=0).plot(style=\".-\",grid=True,ms=8,color=\"green\",ax=axes[1])\n",
    "axes[0].legend([\"train\",\"val\"])\n",
    "axes[0].set_title(\"Cost\")\n",
    "axes[1].set_title(\"Accuracy\")\n",
    "axes[1].set_xlabel(\"Epoch\")"
   ]
  },
  {
   "cell_type": "markdown",
   "metadata": {},
   "source": [
    "We can see that the final model trained on the big data set behaves as expected, converging to roughly 96 % accuracy. Notably, the validation loss does not increase dramatically anymore after 15 epochs, while the training loss is obviously still increasing. We can actually continue training for a couple of epochs before we would see the validation metrics to get worse (early stopping), but for now I think 25 Epochs are reasonable."
   ]
  }
 ],
 "metadata": {
  "kernelspec": {
   "display_name": "Python 3",
   "language": "python",
   "name": "python3"
  },
  "language_info": {
   "codemirror_mode": {
    "name": "ipython",
    "version": 3
   },
   "file_extension": ".py",
   "mimetype": "text/x-python",
   "name": "python",
   "nbconvert_exporter": "python",
   "pygments_lexer": "ipython3",
   "version": "3.7.9"
  }
 },
 "nbformat": 4,
 "nbformat_minor": 4
}
